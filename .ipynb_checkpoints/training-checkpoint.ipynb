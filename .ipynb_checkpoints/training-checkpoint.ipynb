{
 "cells": [
  {
   "cell_type": "code",
   "execution_count": 23,
   "id": "73ef8a5f-db63-413a-8f14-230bf6d15be4",
   "metadata": {},
   "outputs": [],
   "source": [
    "import tiktoken as tt"
   ]
  },
  {
   "cell_type": "code",
   "execution_count": 24,
   "id": "bec1c96a-1dfa-43ae-9cce-6eb33f7c8ceb",
   "metadata": {},
   "outputs": [],
   "source": [
    "text = \"<|im_start|>assistant<|im_sep|>Hie surabhi, shekhar this side<|im_end|><|im_start|>user<|im_sep|>Hii<|im_end|><|im_start|>user<|im_sep|>Is this you<|im_end|>\""
   ]
  },
  {
   "cell_type": "code",
   "execution_count": 25,
   "id": "4a78861d-042a-40e4-8eba-5f96cca8ef88",
   "metadata": {},
   "outputs": [],
   "source": [
    "cl100k_base = tt.get_encoding(\"cl100k_base\")\n",
    "\n",
    "enc = tt.Encoding(\n",
    "    # If you're changing the set of special tokens, make sure to use a different name\n",
    "    # It should be clear from the name what behaviour to expect.\n",
    "    name=\"cl100k_im\",\n",
    "    pat_str=cl100k_base._pat_str,\n",
    "    mergeable_ranks=cl100k_base._mergeable_ranks,\n",
    "    special_tokens={\n",
    "        **cl100k_base._special_tokens,\n",
    "        \"<|im_start|>\": 100277,\n",
    "        \"<|im_sep|>\": 100278,\n",
    "        \"<|im_end|>\": 100279,\n",
    "        \"assistant\": 100280,\n",
    "        \"user\": 100281\n",
    "    }\n",
    ")"
   ]
  },
  {
   "cell_type": "code",
   "execution_count": 26,
   "id": "4f151833-5458-4f1e-a794-e62a6dbd4468",
   "metadata": {},
   "outputs": [],
   "source": [
    "encoding = enc.encode(text, allowed_special=\"all\")\n",
    "decoding = enc.decode(encoding)\n",
    "encoding, decoding, enc.n_vocab, enc.decode([100281])\n",
    "vocab_size = enc.n_vocab"
   ]
  },
  {
   "cell_type": "code",
   "execution_count": 27,
   "id": "143c13ad-a4b4-41cc-a4fe-187e89adf397",
   "metadata": {},
   "outputs": [],
   "source": [
    "import tensorflow as tf\n",
    "import keras\n",
    "from keras import layers\n",
    "import numpy as np"
   ]
  },
  {
   "cell_type": "code",
   "execution_count": 28,
   "id": "6d081ee1-ccdd-49a5-88a8-671ac70707ac",
   "metadata": {},
   "outputs": [],
   "source": [
    "model = keras.Sequential()\n",
    "model.add(layers.Dense(vocab_size * 1000, activation=\"relu\", name=\"inputLayer\"))\n",
    "model.add(layers.Dense(3000, name=\"hiddenLayer5\"))\n",
    "model.add(layers.Dense(vocab_size, name=\"outputLayer\"))"
   ]
  },
  {
   "cell_type": "code",
   "execution_count": 29,
   "id": "2059bc17-f1e8-427f-b28b-569a3c668202",
   "metadata": {},
   "outputs": [],
   "source": [
    "messages_file = open(\"text_for_training.txt\")"
   ]
  },
  {
   "cell_type": "code",
   "execution_count": 30,
   "id": "bdb4ce24-1267-4787-b8ac-88729356e588",
   "metadata": {},
   "outputs": [],
   "source": [
    "tokens = enc.encode(messages_file.read(), allowed_special=\"all\")"
   ]
  },
  {
   "cell_type": "code",
   "execution_count": 31,
   "id": "341bd18c-a39b-4fe8-9047-9bc0bbb2fef3",
   "metadata": {},
   "outputs": [
    {
     "data": {
      "text/plain": [
       "658393"
      ]
     },
     "execution_count": 31,
     "metadata": {},
     "output_type": "execute_result"
    }
   ],
   "source": [
    "len(tokens)"
   ]
  },
  {
   "cell_type": "code",
   "execution_count": 32,
   "id": "d59ce6e9-81a3-4cab-8970-5f67164b8b05",
   "metadata": {},
   "outputs": [],
   "source": [
    "trainX = []\n",
    "trainY = []"
   ]
  },
  {
   "cell_type": "code",
   "execution_count": null,
   "id": "d67efd67-1daa-4986-94f6-be645281ff53",
   "metadata": {},
   "outputs": [],
   "source": [
    "for i in range(0, len(tokens)-1):\n",
    "    for j in range(0, 1000):\n",
    "        inp = np.zeros(vocab_size*1000)\n",
    "        out = np.zeros(vocab_size)\n",
    "        for k in range(0, j+1):\n",
    "            inp[tokens[i+k+j]] = 1\n",
    "        out[tokens[i+j+1]] = 1\n",
    "        # add the inp to the inputs and add the output\n",
    "        trainX.append(inp)\n",
    "        trainY.append(out)\n",
    "            "
   ]
  },
  {
   "cell_type": "code",
   "execution_count": null,
   "id": "1874775c-8612-4bed-bfe5-5c38300dded7",
   "metadata": {},
   "outputs": [],
   "source": []
  }
 ],
 "metadata": {
  "kernelspec": {
   "display_name": "Python 3 (ipykernel)",
   "language": "python",
   "name": "python3"
  },
  "language_info": {
   "codemirror_mode": {
    "name": "ipython",
    "version": 3
   },
   "file_extension": ".py",
   "mimetype": "text/x-python",
   "name": "python",
   "nbconvert_exporter": "python",
   "pygments_lexer": "ipython3",
   "version": "3.10.9"
  }
 },
 "nbformat": 4,
 "nbformat_minor": 5
}
